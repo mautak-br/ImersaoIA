{
  "nbformat": 4,
  "nbformat_minor": 0,
  "metadata": {
    "colab": {
      "provenance": [],
      "authorship_tag": "ABX9TyPI+/UpsyesuzJIVkh67DX3",
      "include_colab_link": true
    },
    "kernelspec": {
      "name": "python3",
      "display_name": "Python 3"
    },
    "language_info": {
      "name": "python"
    }
  },
  "cells": [
    {
      "cell_type": "markdown",
      "metadata": {
        "id": "view-in-github",
        "colab_type": "text"
      },
      "source": [
        "<a href=\"https://colab.research.google.com/github/mautak-br/ImersaoIA/blob/main/MyTranslate.ipynb\" target=\"_parent\"><img src=\"https://colab.research.google.com/assets/colab-badge.svg\" alt=\"Open In Colab\"/></a>"
      ]
    },
    {
      "cell_type": "code",
      "execution_count": null,
      "metadata": {
        "id": "VzqKrf2lrjOI"
      },
      "outputs": [],
      "source": [
        "!pip install deep-translator"
      ]
    },
    {
      "cell_type": "code",
      "source": [
        "#from deep_translator import GoogleTranslator\n",
        "from deep_translator import (GoogleTranslator,\n",
        "                             ChatGptTranslator,\n",
        "                             MicrosoftTranslator,\n",
        "                             PonsTranslator,\n",
        "                             LingueeTranslator,\n",
        "                             MyMemoryTranslator,\n",
        "                             YandexTranslator,\n",
        "                             PapagoTranslator,\n",
        "                             DeeplTranslator,\n",
        "                             QcriTranslator,\n",
        "                             single_detection,\n",
        "                             batch_detection)"
      ],
      "metadata": {
        "id": "csBxP26ar1AM"
      },
      "execution_count": 19,
      "outputs": []
    },
    {
      "cell_type": "code",
      "source": [
        "translator = GoogleTranslator()\n",
        "translator.source = 'auto'\n",
        "translator.target = 'pt'"
      ],
      "metadata": {
        "id": "MBtLiT_msBHF"
      },
      "execution_count": 16,
      "outputs": []
    },
    {
      "cell_type": "code",
      "source": [
        "texto_original = \"Hello, world!\"\n",
        "#traducao = translator.translate(texto_original, dest='pt')\n",
        "traducao = translator.translate(texto_original)\n",
        "\n",
        "\n",
        "\n",
        "print(traducao)  # Output: Olá, mundo!"
      ],
      "metadata": {
        "colab": {
          "base_uri": "https://localhost:8080/"
        },
        "id": "acTZV7VtsExz",
        "outputId": "c08500f3-a68e-4f04-ee65-8dba1d7a557c"
      },
      "execution_count": 17,
      "outputs": [
        {
          "output_type": "stream",
          "name": "stdout",
          "text": [
            "Olá Mundo!\n"
          ]
        }
      ]
    },
    {
      "cell_type": "code",
      "source": [
        "MicrosoftTranslator().get_supported_languages()"
      ],
      "metadata": {
        "colab": {
          "base_uri": "https://localhost:8080/",
          "height": 349
        },
        "id": "FZr198IwxVJ2",
        "outputId": "3559ce8f-f8f6-4f39-b7da-896318f77591"
      },
      "execution_count": 20,
      "outputs": [
        {
          "output_type": "error",
          "ename": "ApiKeyException",
          "evalue": "None --> \nYou have to pass your api_key!\nYou can do this by passing the key as a parameter/argument to the translator class\nor by setting the environment variable MICROSOFT_API_KEY\n\nExample: export MICROSOFT_API_KEY=\"your_api_key\"\n",
          "traceback": [
            "\u001b[0;31m---------------------------------------------------------------------------\u001b[0m",
            "\u001b[0;31mApiKeyException\u001b[0m                           Traceback (most recent call last)",
            "\u001b[0;32m<ipython-input-20-9f7fe3dd9743>\u001b[0m in \u001b[0;36m<cell line: 1>\u001b[0;34m()\u001b[0m\n\u001b[0;32m----> 1\u001b[0;31m \u001b[0mMicrosoftTranslator\u001b[0m\u001b[0;34m(\u001b[0m\u001b[0;34m)\u001b[0m\u001b[0;34m.\u001b[0m\u001b[0mget_supported_languages\u001b[0m\u001b[0;34m(\u001b[0m\u001b[0;34m)\u001b[0m\u001b[0;34m\u001b[0m\u001b[0;34m\u001b[0m\u001b[0m\n\u001b[0m",
            "\u001b[0;32m/usr/local/lib/python3.10/dist-packages/deep_translator/microsoft.py\u001b[0m in \u001b[0;36m__init__\u001b[0;34m(self, source, target, api_key, region, proxies, **kwargs)\u001b[0m\n\u001b[1;32m     37\u001b[0m \u001b[0;34m\u001b[0m\u001b[0m\n\u001b[1;32m     38\u001b[0m         \u001b[0;32mif\u001b[0m \u001b[0;32mnot\u001b[0m \u001b[0mapi_key\u001b[0m\u001b[0;34m:\u001b[0m\u001b[0;34m\u001b[0m\u001b[0;34m\u001b[0m\u001b[0m\n\u001b[0;32m---> 39\u001b[0;31m             \u001b[0;32mraise\u001b[0m \u001b[0mApiKeyException\u001b[0m\u001b[0;34m(\u001b[0m\u001b[0menv_var\u001b[0m\u001b[0;34m=\u001b[0m\u001b[0mMSFT_ENV_VAR\u001b[0m\u001b[0;34m)\u001b[0m\u001b[0;34m\u001b[0m\u001b[0;34m\u001b[0m\u001b[0m\n\u001b[0m\u001b[1;32m     40\u001b[0m \u001b[0;34m\u001b[0m\u001b[0m\n\u001b[1;32m     41\u001b[0m         \u001b[0mself\u001b[0m\u001b[0;34m.\u001b[0m\u001b[0mapi_key\u001b[0m \u001b[0;34m=\u001b[0m \u001b[0mapi_key\u001b[0m\u001b[0;34m\u001b[0m\u001b[0;34m\u001b[0m\u001b[0m\n",
            "\u001b[0;31mApiKeyException\u001b[0m: None --> \nYou have to pass your api_key!\nYou can do this by passing the key as a parameter/argument to the translator class\nor by setting the environment variable MICROSOFT_API_KEY\n\nExample: export MICROSOFT_API_KEY=\"your_api_key\"\n"
          ]
        }
      ]
    }
  ]
}